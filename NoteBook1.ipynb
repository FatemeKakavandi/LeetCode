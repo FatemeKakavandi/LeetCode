{
 "cells": [
  {
   "cell_type": "markdown",
   "id": "0359cd4a",
   "metadata": {},
   "source": [
    "## Problem 1:\n",
    "**Description:**\n",
    "\n",
    "Given an array of integers nums and an integer target, return indices of the two numbers such that they add up to target.\n",
    "You may assume that each input would have exactly one solution, and you may not use the same element twice.\n",
    "You can return the answer in any order.\n",
    " \n",
    "Example 1:\n",
    "\n",
    "Input: nums = [2,7,11,15], target = 9\n",
    "\n",
    "Output: [0,1]\n",
    "\n",
    "Explanation: Because nums[0] + nums[1] == 9, we return [0, 1]."
   ]
  },
  {
   "cell_type": "code",
   "execution_count": 2,
   "id": "adca26ab",
   "metadata": {},
   "outputs": [],
   "source": [
    "class Solution:\n",
    "    def twoSum(self, nums, target):\n",
    "        idx= 0\n",
    "        final_idx = [-1,-1]\n",
    "        for first_num in nums:\n",
    "            \n",
    "            second_num = target-first_num\n",
    "            sec_count = nums.count(second_num)\n",
    "\n",
    "            if sec_count>0:\n",
    "                if (sec_count==1)&(nums.index(second_num)!=idx):\n",
    "                    return [idx, nums.index(second_num)]\n",
    "                elif sec_count>1 :\n",
    "                    indices = [ind for ind, ele in enumerate(nums) if (ele == second_num)&(ind!=idx)]\n",
    "                    return [idx,indices[0]]\n",
    "            idx = idx + 1\n",
    "        return final_idx"
   ]
  },
  {
   "cell_type": "markdown",
   "id": "552d082f",
   "metadata": {},
   "source": [
    "## Test Case\n",
    "Some of the test cases can be as follow:\n",
    "\n",
    "[2,7,11,15]\n",
    "\n",
    "9\n",
    "\n",
    "[3,2,4]\n",
    "\n",
    "6\n",
    "\n",
    "[3,3]\n",
    "\n",
    "6\n",
    "\n",
    "[3,2,3]\n",
    "\n",
    "6"
   ]
  },
  {
   "cell_type": "code",
   "execution_count": 6,
   "id": "cb0b7506",
   "metadata": {},
   "outputs": [
    {
     "data": {
      "text/plain": [
       "[0, 1]"
      ]
     },
     "execution_count": 6,
     "metadata": {},
     "output_type": "execute_result"
    }
   ],
   "source": [
    "Solution().twoSum(nums=[2,7,11,15],target=9)"
   ]
  },
  {
   "cell_type": "code",
   "execution_count": null,
   "id": "e5de7c29",
   "metadata": {},
   "outputs": [],
   "source": []
  }
 ],
 "metadata": {
  "kernelspec": {
   "display_name": "Python 3",
   "language": "python",
   "name": "python3"
  },
  "language_info": {
   "codemirror_mode": {
    "name": "ipython",
    "version": 3
   },
   "file_extension": ".py",
   "mimetype": "text/x-python",
   "name": "python",
   "nbconvert_exporter": "python",
   "pygments_lexer": "ipython3",
   "version": "3.6.7"
  }
 },
 "nbformat": 4,
 "nbformat_minor": 5
}
