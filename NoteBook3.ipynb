{
 "cells": [
  {
   "cell_type": "markdown",
   "id": "aba73a18",
   "metadata": {},
   "source": [
    "# Problem Description\n",
    "Roman numerals are represented by seven different symbols: I, V, X, L, C, D and M.\n",
    " \n",
    "Symbol       Value\n",
    "I             1\n",
    "V             5\n",
    "X             10\n",
    "L             50\n",
    "C             100\n",
    "D             500\n",
    "M             1000\n",
    "For example, 2 is written as II in Roman numeral, just two ones added together. 12 is written as XII, which is simply X + II. The number 27 is written as XXVII, which is XX + V + II.\n",
    "\n",
    "Roman numerals are usually written largest to smallest from left to right. However, the numeral for four is not IIII. Instead, the number four is written as IV. Because the one is before the five we subtract it making four. The same principle applies to the number nine, which is written as IX. There are six instances where subtraction is used:\n",
    "\n",
    "I can be placed before V (5) and X (10) to make 4 and 9. \n",
    "X can be placed before L (50) and C (100) to make 40 and 90. \n",
    "C can be placed before D (500) and M (1000) to make 400 and 900.\n",
    "Given a roman numeral, convert it to an integer."
   ]
  },
  {
   "cell_type": "code",
   "execution_count": 13,
   "id": "d5997f4e",
   "metadata": {},
   "outputs": [],
   "source": [
    "class Solution:\n",
    "    def romanToInt(self, s: str) -> int:\n",
    "        mapping_dic = {'I':1, 'V':5, 'X':10,'L':50,'C':100,'D':500,'M':1000}  \n",
    "        substract_set = {'I','X','C'}\n",
    "        final_value = 0\n",
    "        for i in range(len(s)):\n",
    "            if (s[i]=='I')&(i!=len(s)-1):\n",
    "                if s[i+1] in {'V','X'}:\n",
    "                    adding_value = -1\n",
    "                else:\n",
    "                    adding_value = 1\n",
    "            elif (s[i]=='X')&(i!=len(s)-1):\n",
    "                if s[i+1] in {'L','C'}:\n",
    "                    adding_value = -10\n",
    "                else:\n",
    "                    adding_value = 10\n",
    "            elif (s[i]=='C')&(i!=len(s)-1):\n",
    "                if s[i+1] in {'D','M'}:\n",
    "                    adding_value = -100\n",
    "                else:\n",
    "                    adding_value = 100\n",
    "            else:\n",
    "                adding_value = mapping_dic[s[i]]\n",
    "            final_value = final_value + adding_value\n",
    "        return final_value"
   ]
  },
  {
   "cell_type": "code",
   "execution_count": 14,
   "id": "9687d8de",
   "metadata": {},
   "outputs": [
    {
     "name": "stdout",
     "output_type": "stream",
     "text": [
      "58\n"
     ]
    }
   ],
   "source": [
    "s = 'LVIII'\n",
    "print(Solution().romanToInt(s))"
   ]
  },
  {
   "cell_type": "code",
   "execution_count": null,
   "id": "e5b1ff8e",
   "metadata": {},
   "outputs": [],
   "source": []
  }
 ],
 "metadata": {
  "kernelspec": {
   "display_name": "Python 3",
   "language": "python",
   "name": "python3"
  },
  "language_info": {
   "codemirror_mode": {
    "name": "ipython",
    "version": 3
   },
   "file_extension": ".py",
   "mimetype": "text/x-python",
   "name": "python",
   "nbconvert_exporter": "python",
   "pygments_lexer": "ipython3",
   "version": "3.6.7"
  }
 },
 "nbformat": 4,
 "nbformat_minor": 5
}
