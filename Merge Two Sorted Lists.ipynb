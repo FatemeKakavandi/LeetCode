{
 "cells": [
  {
   "cell_type": "markdown",
   "id": "dc06ba66",
   "metadata": {},
   "source": [
    "## Problem Description\n",
    "\n",
    "You are given the heads of two sorted linked lists list1 and list2.\n",
    "\n",
    "Merge the two lists into one sorted list. The list should be made by splicing together the nodes of the first two lists."
   ]
  },
  {
   "cell_type": "code",
   "execution_count": 41,
   "id": "6f99dada",
   "metadata": {},
   "outputs": [
    {
     "name": "stdout",
     "output_type": "stream",
     "text": [
      "[1, 3, 4]\n",
      "[1, 1, 6]\n",
      "[1, 1, 1, 3, 4, 6]\n",
      "[1, 1, 1, 3, 4, 6]\n"
     ]
    }
   ],
   "source": [
    "# Definition for singly-linked list.\n",
    "class ListNode:\n",
    "    def __init__(self, val=0, next=None):\n",
    "        self.val = val\n",
    "        self.next = next\n",
    "        \n",
    "list1 = ListNode(val=1,next=ListNode(val=3,next=ListNode(val=4,next=None)))\n",
    "list2 = ListNode(val=1,next=ListNode(val=1,next=ListNode(val=6,next=None)))\n",
    "\n",
    "def return_as_list(list_node):\n",
    "    final_list = []\n",
    "    next_item = list_node.next\n",
    "    list_val = list_node.val\n",
    "    while next_item is not None:\n",
    "        final_list = final_list + [list_val]\n",
    "        list_val = next_item.val\n",
    "        next_item = next_item.next\n",
    "\n",
    "    final_list = final_list +[list_val]\n",
    "    \n",
    "    return final_list\n",
    "\n",
    "list1 = return_as_list(list1)\n",
    "print(list1)\n",
    "list2 = return_as_list(list2)\n",
    "print(list2)\n",
    "\n",
    "final = list1 + list2\n",
    "final.sort()\n",
    "print(final)\n",
    "final_list_node = ListNode(val=final[-1],next=None)\n",
    "for i in range(len(final)-1):\n",
    "    final_list_node = ListNode(val=final[-(i+2)],next=final_list_node)\n",
    "print(return_as_list(final_list_node))\n",
    "    \n",
    "    \n",
    "\n",
    "\n",
    " \n"
   ]
  },
  {
   "cell_type": "code",
   "execution_count": 61,
   "id": "20c1a94b",
   "metadata": {},
   "outputs": [],
   "source": [
    "class Solution:\n",
    "    def mergeTwoLists(self, list1, list2):\n",
    "        def return_as_list(list_node):\n",
    "            final_list = []\n",
    "            if list_node is not None:\n",
    "                next_item = list_node.next\n",
    "                list_val = list_node.val\n",
    "                while next_item is not None:\n",
    "                    final_list = final_list + [list_val]\n",
    "                    list_val = next_item.val\n",
    "                    next_item = next_item.next\n",
    "\n",
    "                final_list = final_list +[list_val]\n",
    "            else:\n",
    "                return []\n",
    "    \n",
    "            return final_list\n",
    "\n",
    "        list1_list = return_as_list(list1)\n",
    "        print(list1_list)\n",
    "        list2_list = return_as_list(list2)\n",
    "        print(list2_list)\n",
    "        final = list1_list + list2_list\n",
    "        if (len(final)!=0) & (None not in final):\n",
    "            final.sort()\n",
    "            print(final)\n",
    "            final_list_node = ListNode(val=final[-1],next=None)\n",
    "            for i in range(len(final)-1):\n",
    "                final_list_node = ListNode(val=final[-(i+2)],next=final_list_node)\n",
    "            print(return_as_list(final_list_node))\n",
    "            return final_list_node\n",
    "        else:\n",
    "            return list1"
   ]
  },
  {
   "cell_type": "code",
   "execution_count": 62,
   "id": "6f91eb78",
   "metadata": {},
   "outputs": [
    {
     "name": "stdout",
     "output_type": "stream",
     "text": [
      "[1, 3, 4]\n",
      "[1, 1, 6]\n",
      "[1, 1, 1, 3, 4, 6]\n",
      "[1, 1, 1, 3, 4, 6]\n",
      "<__main__.ListNode object at 0x7fb27e87b9b0>\n"
     ]
    }
   ],
   "source": [
    "### Test Case 1\n",
    "list1 = ListNode(val=1,next=ListNode(val=3,next=ListNode(val=4,next=None)))\n",
    "list2 = ListNode(val=1,next=ListNode(val=1,next=ListNode(val=6,next=None)))\n",
    "print(Solution().mergeTwoLists(list1,list2))"
   ]
  },
  {
   "cell_type": "code",
   "execution_count": 64,
   "id": "adeefd69",
   "metadata": {},
   "outputs": [
    {
     "name": "stdout",
     "output_type": "stream",
     "text": [
      "[None]\n",
      "[None]\n",
      "<__main__.ListNode object at 0x7fb27ec0d320>\n"
     ]
    }
   ],
   "source": [
    "## Test Case 2\n",
    "list1 = ListNode(val=None)\n",
    "list2 = ListNode(val=None)\n",
    "print(Solution().mergeTwoLists(list1,list2))"
   ]
  },
  {
   "cell_type": "code",
   "execution_count": 65,
   "id": "2504e3c2",
   "metadata": {},
   "outputs": [
    {
     "name": "stdout",
     "output_type": "stream",
     "text": [
      "[0]\n",
      "[None]\n",
      "<__main__.ListNode object at 0x7fb27e89a0b8>\n"
     ]
    }
   ],
   "source": [
    "## Test Case 3\n",
    "list1 = ListNode(val=0)\n",
    "list2 = ListNode(val=None)\n",
    "print(Solution().mergeTwoLists(list1,list2))"
   ]
  },
  {
   "cell_type": "markdown",
   "id": "9a1daefe",
   "metadata": {},
   "source": [
    "## A Better Solution\n",
    "Here is the solution submitted by someone else"
   ]
  },
  {
   "cell_type": "code",
   "execution_count": 66,
   "id": "dd84f4d5",
   "metadata": {},
   "outputs": [],
   "source": [
    "class Better_Solution:\n",
    "    def mergeTwoLists(self, list1, list2):\n",
    "        cur = dummy = ListNode()\n",
    "        while list1 and list2:               \n",
    "            if list1.val < list2.val:\n",
    "                cur.next = list1\n",
    "                list1, cur = list1.next, list1\n",
    "            else:\n",
    "                cur.next = list2\n",
    "                list2, cur = list2.next, list2\n",
    "                \n",
    "        if list1 or list2:\n",
    "            cur.next = list1 if list1 else list2\n",
    "            \n",
    "        return dummy.next"
   ]
  },
  {
   "cell_type": "code",
   "execution_count": 68,
   "id": "126e73ff",
   "metadata": {},
   "outputs": [
    {
     "name": "stdout",
     "output_type": "stream",
     "text": [
      "None\n"
     ]
    }
   ],
   "source": [
    "list1 = []\n",
    "list2 = []\n",
    "print(Better_Solution().mergeTwoLists(list1,list2))"
   ]
  },
  {
   "cell_type": "code",
   "execution_count": null,
   "id": "dc8fd483",
   "metadata": {},
   "outputs": [],
   "source": []
  }
 ],
 "metadata": {
  "kernelspec": {
   "display_name": "Python 3",
   "language": "python",
   "name": "python3"
  },
  "language_info": {
   "codemirror_mode": {
    "name": "ipython",
    "version": 3
   },
   "file_extension": ".py",
   "mimetype": "text/x-python",
   "name": "python",
   "nbconvert_exporter": "python",
   "pygments_lexer": "ipython3",
   "version": "3.6.7"
  }
 },
 "nbformat": 4,
 "nbformat_minor": 5
}
