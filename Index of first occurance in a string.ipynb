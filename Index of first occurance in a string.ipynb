{
 "cells": [
  {
   "cell_type": "markdown",
   "id": "95bbe63a",
   "metadata": {},
   "source": [
    "## Problem Description\n",
    "Given two strings needle and haystack, return the index of the first occurrence of needle in haystack, or -1 if needle is not part of haystack.\n",
    "\n",
    " \n",
    "\n",
    "### Example 1:\n",
    "\n",
    "* Input: haystack = \"sadbutsad\", needle = \"sad\"\n",
    "* Output: 0\n",
    "\n",
    "Explanation: \"sad\" occurs at index 0 and 6.\n",
    "The first occurrence is at index 0, so we return 0.\n",
    "\n",
    "### Example 2:\n",
    "\n",
    "* Input: haystack = \"leetcode\", needle = \"leeto\"\n",
    "* Output: -1\n",
    "\n",
    "class Solution:\n",
    "    def strStr(self, haystack: str, needle: str) -> int:Explanation: \"leeto\" did not occur in \"leetcode\", so we return -1."
   ]
  },
  {
   "cell_type": "code",
   "execution_count": 4,
   "id": "6cbb9b08",
   "metadata": {},
   "outputs": [],
   "source": [
    "class Solution:\n",
    "    def strStr(self, haystack, needle):\n",
    "        if needle in haystack:\n",
    "            return haystack.index(needle)\n",
    "        else: \n",
    "            return -1\n",
    "        \n",
    "        "
   ]
  },
  {
   "cell_type": "code",
   "execution_count": 6,
   "id": "91abcefd",
   "metadata": {},
   "outputs": [
    {
     "name": "stdout",
     "output_type": "stream",
     "text": [
      "-1\n"
     ]
    }
   ],
   "source": [
    "## Test Case 1\n",
    "haystack= 'abscdssnkjabs'\n",
    "needle = 'ac'\n",
    "print(Solution().strStr(haystack,needle))"
   ]
  },
  {
   "cell_type": "code",
   "execution_count": 8,
   "id": "cf11aa8a",
   "metadata": {},
   "outputs": [
    {
     "name": "stdout",
     "output_type": "stream",
     "text": [
      "0\n"
     ]
    }
   ],
   "source": [
    "## Test Case 2\n",
    "haystack = 'sadbutsad'\n",
    "needle = 'sad'\n",
    "print(Solution().strStr(haystack,needle))"
   ]
  },
  {
   "cell_type": "code",
   "execution_count": 9,
   "id": "51c4f927",
   "metadata": {},
   "outputs": [
    {
     "name": "stdout",
     "output_type": "stream",
     "text": [
      "-1\n"
     ]
    }
   ],
   "source": [
    "## Test Case 3\n",
    "haystack = 'leetcode'\n",
    "needle = 'leeto'\n",
    "print(Solution().strStr(haystack, needle))"
   ]
  },
  {
   "cell_type": "code",
   "execution_count": null,
   "id": "cb3c50f1",
   "metadata": {},
   "outputs": [],
   "source": []
  }
 ],
 "metadata": {
  "kernelspec": {
   "display_name": "Python 3",
   "language": "python",
   "name": "python3"
  },
  "language_info": {
   "codemirror_mode": {
    "name": "ipython",
    "version": 3
   },
   "file_extension": ".py",
   "mimetype": "text/x-python",
   "name": "python",
   "nbconvert_exporter": "python",
   "pygments_lexer": "ipython3",
   "version": "3.6.7"
  }
 },
 "nbformat": 4,
 "nbformat_minor": 5
}
