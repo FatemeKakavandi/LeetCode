{
 "cells": [
  {
   "cell_type": "markdown",
   "id": "bafba632",
   "metadata": {},
   "source": [
    "## Problem Description\n",
    "You are given a large integer represented as an integer array digits, where each digits[i] is the ith digit of the integer. The digits are ordered from most significant to least significant in left-to-right order. The large integer does not contain any leading 0's.\n",
    "\n",
    "Increment the large integer by one and return the resulting array of digits."
   ]
  },
  {
   "cell_type": "markdown",
   "id": "3421ab2e",
   "metadata": {},
   "source": [
    "### Example 1:\n",
    "\n",
    "* Input: digits = [1,2,3]\n",
    "* Output: [1,2,4]\n",
    "\n",
    "Explanation: The array represents the integer 123.\n",
    "Incrementing by one gives 123 + 1 = 124.\n",
    "Thus, the result should be [1,2,4].\n",
    "\n",
    "### Example 2:\n",
    "\n",
    "* Input: digits = [4,3,2,1]\n",
    "* Output: [4,3,2,2]\n",
    "\n",
    "Explanation: The array represents the integer 4321.\n",
    "Incrementing by one gives 4321 + 1 = 4322.\n",
    "Thus, the result should be [4,3,2,2].\n",
    "\n",
    "### Example 3:\n",
    "\n",
    "* Input: digits = [9]\n",
    "* Output: [1,0]\n",
    "\n",
    "Explanation: The array represents the integer 9.\n",
    "Incrementing by one gives 9 + 1 = 10.\n",
    "Thus, the result should be [1,0]."
   ]
  },
  {
   "cell_type": "code",
   "execution_count": 10,
   "id": "9e2cd220",
   "metadata": {},
   "outputs": [],
   "source": [
    "class Solution:\n",
    "    def plusOne(self, digits):\n",
    "        out = ''\n",
    "        for elm in digits:\n",
    "            out = out + str(elm)\n",
    "        out = str(int(out) + 1)\n",
    "        return list(map(int,list(out)))\n",
    "        "
   ]
  },
  {
   "cell_type": "code",
   "execution_count": 11,
   "id": "8704d344",
   "metadata": {},
   "outputs": [
    {
     "data": {
      "text/plain": [
       "[1, 2, 4]"
      ]
     },
     "execution_count": 11,
     "metadata": {},
     "output_type": "execute_result"
    }
   ],
   "source": [
    "## Test Case 1\n",
    "digits = [1,2,3]\n",
    "Solution().plusOne(digits)"
   ]
  },
  {
   "cell_type": "code",
   "execution_count": 12,
   "id": "6108010d",
   "metadata": {},
   "outputs": [
    {
     "data": {
      "text/plain": [
       "[4, 3, 2, 2]"
      ]
     },
     "execution_count": 12,
     "metadata": {},
     "output_type": "execute_result"
    }
   ],
   "source": [
    "## Test Case 2\n",
    "digits = [4,3,2,1]\n",
    "Solution().plusOne(digits)"
   ]
  },
  {
   "cell_type": "code",
   "execution_count": 13,
   "id": "65307fc9",
   "metadata": {},
   "outputs": [
    {
     "data": {
      "text/plain": [
       "[1, 0]"
      ]
     },
     "execution_count": 13,
     "metadata": {},
     "output_type": "execute_result"
    }
   ],
   "source": [
    "## Test Case 3\n",
    "digits = [9]\n",
    "Solution().plusOne(digits)"
   ]
  },
  {
   "cell_type": "code",
   "execution_count": null,
   "id": "812529f3",
   "metadata": {},
   "outputs": [],
   "source": []
  }
 ],
 "metadata": {
  "kernelspec": {
   "display_name": "Python 3",
   "language": "python",
   "name": "python3"
  },
  "language_info": {
   "codemirror_mode": {
    "name": "ipython",
    "version": 3
   },
   "file_extension": ".py",
   "mimetype": "text/x-python",
   "name": "python",
   "nbconvert_exporter": "python",
   "pygments_lexer": "ipython3",
   "version": "3.6.7"
  }
 },
 "nbformat": 4,
 "nbformat_minor": 5
}
