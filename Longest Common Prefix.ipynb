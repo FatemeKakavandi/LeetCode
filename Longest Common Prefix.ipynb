{
 "cells": [
  {
   "cell_type": "markdown",
   "id": "027aec95",
   "metadata": {},
   "source": [
    "## Problem Description ##\n",
    "Write a function to find the longest common Prefix string amongst an array of strings.\n",
    "\n",
    "If there is no common phrase, return an empty string \"\".\n",
    "\n",
    " \n",
    "\n",
    "## Example 1:\n",
    "\n",
    "Input: strs = [\"flower\",\"flow\",\"flight\"]\n",
    "Output: \"fl\"\n",
    "\n",
    "## Example 2:\n",
    "\n",
    "Input: strs = [\"dog\",\"racecar\",\"car\"]\n",
    "Output: \"\"\n",
    "Explanation: There is no common prefix among the input strings."
   ]
  },
  {
   "cell_type": "code",
   "execution_count": 32,
   "id": "e5e90724",
   "metadata": {},
   "outputs": [],
   "source": [
    "class Solution:\n",
    "    def longestCommonPrefix(self, strs):\n",
    "        \n",
    "        \n",
    "        strs.sort(key=len)\n",
    "        if len(strs[0])==0:\n",
    "            return ''\n",
    "        \n",
    "        else:\n",
    "            temp = ''\n",
    "            j=0\n",
    "            # Common start\n",
    "            cs = True\n",
    "            for elm in strs[1:]:\n",
    "                    cs = cs and (strs[0][0] == elm[0])\n",
    "\n",
    "            if cs :    \n",
    "                for i in range(len(strs[0])):\n",
    "                    ifin = True\n",
    "                    for elm in strs[1:]:\n",
    "                        ifin = ifin and (strs[0][i] == elm[i])\n",
    "\n",
    "                    if ifin:\n",
    "                        temp = temp + strs[0][i]\n",
    "                    else:\n",
    "                        break\n",
    "        \n",
    "            return temp\n",
    "        \n",
    " \n",
    "            "
   ]
  },
  {
   "cell_type": "code",
   "execution_count": 33,
   "id": "a0edee6d",
   "metadata": {},
   "outputs": [
    {
     "name": "stdout",
     "output_type": "stream",
     "text": [
      "\n"
     ]
    }
   ],
   "source": [
    "## Test Case 1\n",
    "strs = [\"reflower\",\"flow\",\"flight\"]\n",
    "print(Solution().longestCommonPrefix(strs))"
   ]
  },
  {
   "cell_type": "code",
   "execution_count": 34,
   "id": "5a575018",
   "metadata": {},
   "outputs": [
    {
     "name": "stdout",
     "output_type": "stream",
     "text": [
      "fl\n"
     ]
    }
   ],
   "source": [
    "## Test case 2\n",
    "strs = [\"flower\",\"flow\",\"flight\"]\n",
    "print(Solution().longestCommonPrefix(strs))"
   ]
  },
  {
   "cell_type": "code",
   "execution_count": 35,
   "id": "7c5fe510",
   "metadata": {},
   "outputs": [
    {
     "name": "stdout",
     "output_type": "stream",
     "text": [
      "c\n"
     ]
    }
   ],
   "source": [
    "## Test Case 3\n",
    "strs = [\"cir\",\"car\"]\n",
    "print(Solution().longestCommonPrefix(strs))"
   ]
  },
  {
   "cell_type": "code",
   "execution_count": null,
   "id": "74fe0dee",
   "metadata": {},
   "outputs": [],
   "source": []
  }
 ],
 "metadata": {
  "kernelspec": {
   "display_name": "Python 3",
   "language": "python",
   "name": "python3"
  },
  "language_info": {
   "codemirror_mode": {
    "name": "ipython",
    "version": 3
   },
   "file_extension": ".py",
   "mimetype": "text/x-python",
   "name": "python",
   "nbconvert_exporter": "python",
   "pygments_lexer": "ipython3",
   "version": "3.6.7"
  }
 },
 "nbformat": 4,
 "nbformat_minor": 5
}
