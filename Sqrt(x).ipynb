{
 "cells": [
  {
   "cell_type": "markdown",
   "id": "520d5400",
   "metadata": {},
   "source": [
    "## Problem Description\n",
    "\n",
    "Given a non-negative integer x, return the square root of x rounded down to the nearest integer. The returned integer should be non-negative as well.\n",
    "\n",
    "You must not use any built-in exponent function or operator.\n",
    "\n",
    "* For example, do not use pow(x, 0.5) in c++ or x ** 0.5 in python. \n",
    "\n",
    "### Example 1:\n",
    "\n",
    "* Input: x = 4\n",
    "* Output: 2\n",
    "\n",
    "Explanation: The square root of 4 is 2, so we return 2.\n",
    "\n",
    "### Example 2:\n",
    "\n",
    "* Input: x = 8\n",
    "* Output: 2\n",
    "\n",
    "Explanation: The square root of 8 is 2.82842..., and since we round it down to the nearest integer, 2 is returned.\n",
    "\n",
    "### Solution\n",
    "The algorithm used in the solution is the implementation of the algorithm mentioned in :\n",
    "https://www.wikihow.com/Calculate-a-Square-Root-by-Hand"
   ]
  },
  {
   "cell_type": "code",
   "execution_count": 24,
   "id": "c8071486",
   "metadata": {},
   "outputs": [],
   "source": [
    "class Solution:\n",
    "    def mySqrt(self, x):\n",
    "        def get_two_num_root(two_digit):\n",
    "            out = 0\n",
    "            if two_digit ==1:\n",
    "                return 1\n",
    "            else :\n",
    "                for i in range(round(two_digit/2)+1):\n",
    "                    if ((i*i)<=two_digit)&(two_digit<((i+1)*(i+1))):\n",
    "                        out = i\n",
    "            return out \n",
    "\n",
    "        def find_y(res,root):\n",
    "            if res==0:\n",
    "                return 0,0\n",
    "            else:\n",
    "                \n",
    "                for i in range(res):\n",
    "                    if (((root*2*10+i)*i)<=res)&(res<((root*2*10+(i+1))*(i+1))):\n",
    "                        res = res - ((root*2*10+i)*i)\n",
    "                        y_root = i\n",
    "                        return i,res\n",
    "        x = str(x)\n",
    "        if x =='1':\n",
    "            return 1\n",
    "        elif len(x)%2==0:\n",
    "            temp = int(x[:2])\n",
    "            start = 2\n",
    "\n",
    "        else:\n",
    "            temp = int(x[:1])\n",
    "            start = 1\n",
    "\n",
    "        temp_root = get_two_num_root(temp)\n",
    "        res = temp - temp_root * temp_root\n",
    "        root = str(temp_root)\n",
    "\n",
    "        for i in range(start,len(x),2):        \n",
    "            print(res)\n",
    "            temp = int(str(res)+x[i:i+2])\n",
    "            print(temp)\n",
    "            y_root, res = find_y(temp,temp_root)\n",
    "            print(y_root)\n",
    "            root += str(y_root) \n",
    "            temp_root = int(root)\n",
    "        return temp_root"
   ]
  },
  {
   "cell_type": "code",
   "execution_count": 25,
   "id": "1cbc8935",
   "metadata": {},
   "outputs": [
    {
     "name": "stdout",
     "output_type": "stream",
     "text": [
      "5\n",
      "547\n",
      "6\n",
      "31\n",
      "3139\n",
      "3\n",
      "370\n",
      "37055\n",
      "3\n",
      "9266\n",
      "926699\n",
      "9\n"
     ]
    },
    {
     "data": {
      "text/plain": [
       "46339"
      ]
     },
     "execution_count": 25,
     "metadata": {},
     "output_type": "execute_result"
    }
   ],
   "source": [
    "## Test Case 1\n",
    "x = 2147395599\n",
    "Solution().mySqrt(x)"
   ]
  },
  {
   "cell_type": "code",
   "execution_count": 26,
   "id": "8250eb20",
   "metadata": {},
   "outputs": [
    {
     "data": {
      "text/plain": [
       "1"
      ]
     },
     "execution_count": 26,
     "metadata": {},
     "output_type": "execute_result"
    }
   ],
   "source": [
    "## Test Case 2\n",
    "x = 1\n",
    "Solution().mySqrt(x)"
   ]
  },
  {
   "cell_type": "code",
   "execution_count": 27,
   "id": "3b50fa17",
   "metadata": {},
   "outputs": [
    {
     "data": {
      "text/plain": [
       "2"
      ]
     },
     "execution_count": 27,
     "metadata": {},
     "output_type": "execute_result"
    }
   ],
   "source": [
    "## Test Case 3\n",
    "x = 4\n",
    "Solution().mySqrt(x)"
   ]
  },
  {
   "cell_type": "code",
   "execution_count": 28,
   "id": "c05a235c",
   "metadata": {},
   "outputs": [
    {
     "data": {
      "text/plain": [
       "2"
      ]
     },
     "execution_count": 28,
     "metadata": {},
     "output_type": "execute_result"
    }
   ],
   "source": [
    "## Test Case 4\n",
    "x = 8\n",
    "Solution().mySqrt(x)"
   ]
  },
  {
   "cell_type": "code",
   "execution_count": 29,
   "id": "91fbe84a",
   "metadata": {},
   "outputs": [
    {
     "name": "stdout",
     "output_type": "stream",
     "text": [
      "1\n",
      "124\n",
      "2\n"
     ]
    },
    {
     "data": {
      "text/plain": [
       "32"
      ]
     },
     "execution_count": 29,
     "metadata": {},
     "output_type": "execute_result"
    }
   ],
   "source": [
    "## Test Case 5\n",
    "x = 1024\n",
    "Solution().mySqrt(x)"
   ]
  },
  {
   "cell_type": "code",
   "execution_count": 30,
   "id": "4e2ec4fd",
   "metadata": {},
   "outputs": [
    {
     "name": "stdout",
     "output_type": "stream",
     "text": [
      "5\n",
      "547\n",
      "6\n",
      "31\n",
      "3139\n",
      "3\n",
      "370\n",
      "37056\n",
      "4\n",
      "0\n",
      "0\n",
      "0\n"
     ]
    },
    {
     "data": {
      "text/plain": [
       "46340"
      ]
     },
     "execution_count": 30,
     "metadata": {},
     "output_type": "execute_result"
    }
   ],
   "source": [
    "## Test Case 6\n",
    "x = 2147395600\n",
    "Solution().mySqrt(x)"
   ]
  },
  {
   "cell_type": "code",
   "execution_count": 31,
   "id": "8b920703",
   "metadata": {},
   "outputs": [
    {
     "name": "stdout",
     "output_type": "stream",
     "text": [
      "0\n",
      "83\n",
      "3\n",
      "14\n",
      "1469\n",
      "5\n",
      "144\n",
      "14420\n",
      "5\n",
      "895\n",
      "89538\n",
      "3\n"
     ]
    },
    {
     "data": {
      "text/plain": [
       "13553"
      ]
     },
     "execution_count": 31,
     "metadata": {},
     "output_type": "execute_result"
    }
   ],
   "source": [
    "## Test Case 7\n",
    "x = 183692038\n",
    "Solution().mySqrt(x)"
   ]
  },
  {
   "cell_type": "code",
   "execution_count": 32,
   "id": "7765f4ff",
   "metadata": {},
   "outputs": [
    {
     "name": "stdout",
     "output_type": "stream",
     "text": [
      "0\n",
      "1\n",
      "0\n",
      "1\n",
      "172\n",
      "0\n",
      "172\n",
      "17251\n",
      "8\n",
      "1187\n",
      "118726\n",
      "5\n"
     ]
    },
    {
     "data": {
      "text/plain": [
       "10085"
      ]
     },
     "execution_count": 32,
     "metadata": {},
     "output_type": "execute_result"
    }
   ],
   "source": [
    "## Test Case 8 \n",
    "x = 101725126\n",
    "Solution().mySqrt(x)"
   ]
  },
  {
   "cell_type": "code",
   "execution_count": null,
   "id": "1155c017",
   "metadata": {},
   "outputs": [],
   "source": []
  },
  {
   "cell_type": "code",
   "execution_count": null,
   "id": "7b116eb9",
   "metadata": {},
   "outputs": [],
   "source": []
  }
 ],
 "metadata": {
  "kernelspec": {
   "display_name": "Python 3",
   "language": "python",
   "name": "python3"
  },
  "language_info": {
   "codemirror_mode": {
    "name": "ipython",
    "version": 3
   },
   "file_extension": ".py",
   "mimetype": "text/x-python",
   "name": "python",
   "nbconvert_exporter": "python",
   "pygments_lexer": "ipython3",
   "version": "3.6.7"
  }
 },
 "nbformat": 4,
 "nbformat_minor": 5
}
