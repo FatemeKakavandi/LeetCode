{
 "cells": [
  {
   "cell_type": "markdown",
   "id": "d5cedadb",
   "metadata": {},
   "source": [
    "## Description\n",
    "Given an integer x, return true if x is a palindrome, and false otherwise."
   ]
  },
  {
   "cell_type": "code",
   "execution_count": 5,
   "id": "6ad7808b",
   "metadata": {},
   "outputs": [],
   "source": [
    "class Solution:\n",
    "    def isPalindrome(self, x: int) -> bool:\n",
    "        reversed_num = 0\n",
    "        temp_num = x\n",
    "        while temp_num>0:\n",
    "            curr_digit = temp_num%10\n",
    "            reversed_num = 10*reversed_num\n",
    "            reversed_num = reversed_num + curr_digit\n",
    "\n",
    "            temp_num = temp_num //10\n",
    "        if reversed_num == x:\n",
    "            return True\n",
    "        else:\n",
    "            return False"
   ]
  },
  {
   "cell_type": "code",
   "execution_count": 6,
   "id": "4940da2d",
   "metadata": {},
   "outputs": [
    {
     "data": {
      "text/plain": [
       "True"
      ]
     },
     "execution_count": 6,
     "metadata": {},
     "output_type": "execute_result"
    }
   ],
   "source": [
    "Solution().isPalindrome(121)"
   ]
  },
  {
   "cell_type": "code",
   "execution_count": null,
   "id": "b1408982",
   "metadata": {},
   "outputs": [],
   "source": []
  }
 ],
 "metadata": {
  "kernelspec": {
   "display_name": "Python 3",
   "language": "python",
   "name": "python3"
  },
  "language_info": {
   "codemirror_mode": {
    "name": "ipython",
    "version": 3
   },
   "file_extension": ".py",
   "mimetype": "text/x-python",
   "name": "python",
   "nbconvert_exporter": "python",
   "pygments_lexer": "ipython3",
   "version": "3.6.7"
  }
 },
 "nbformat": 4,
 "nbformat_minor": 5
}
