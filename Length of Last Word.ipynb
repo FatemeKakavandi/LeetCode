{
 "cells": [
  {
   "cell_type": "markdown",
   "id": "b99a42a0",
   "metadata": {},
   "source": [
    "## Problem Description\n",
    "Given a string s consisting of words and spaces, return the length of the last word in the string.\n",
    "\n",
    "A **word** is a maximal substring consisting of non-space characters only."
   ]
  },
  {
   "cell_type": "markdown",
   "id": "f27056d5",
   "metadata": {},
   "source": [
    "### Example 1:\n",
    "\n",
    "* Input: s = \"Hello World\"\n",
    "* Output: 5\n",
    "\n",
    "Explanation: The last word is \"World\" with length 5.\n",
    "\n",
    "### Example 2:\n",
    "\n",
    "* Input: s = \"   fly me   to   the moon  \"\n",
    "* Output: 4\n",
    "\n",
    "Explanation: The last word is \"moon\" with length 4.\n",
    "\n",
    "### Example 3:\n",
    "\n",
    "* Input: s = \"luffy is still joyboy\"\n",
    "* Output: 6\n",
    "\n",
    "Explanation: The last word is \"joyboy\" with length 6."
   ]
  },
  {
   "cell_type": "code",
   "execution_count": 13,
   "id": "fe92a66e",
   "metadata": {},
   "outputs": [],
   "source": [
    "class Solution:\n",
    "    def lengthOfLastWord(self, s):\n",
    "        if len(s)==0:\n",
    "            return 0\n",
    "        elif ' ' not in s:\n",
    "            return len(s)\n",
    "        else:\n",
    "            while s[-1]== ' ':\n",
    "                s = s[:-1]\n",
    "            reversed_list = s[::-1]\n",
    "            if ' ' not in reversed_list:\n",
    "                return len(reversed_list)\n",
    "            else:\n",
    "                return reversed_list.index(' ')\n",
    "                \n",
    "        "
   ]
  },
  {
   "cell_type": "code",
   "execution_count": 14,
   "id": "39377b47",
   "metadata": {},
   "outputs": [
    {
     "name": "stdout",
     "output_type": "stream",
     "text": [
      "5\n"
     ]
    }
   ],
   "source": [
    "# Test Case 1\n",
    "s = 'Hello World'\n",
    "print(Solution().lengthOfLastWord(s))"
   ]
  },
  {
   "cell_type": "code",
   "execution_count": 15,
   "id": "16ef2706",
   "metadata": {},
   "outputs": [
    {
     "data": {
      "text/plain": [
       "4"
      ]
     },
     "execution_count": 15,
     "metadata": {},
     "output_type": "execute_result"
    }
   ],
   "source": [
    "# Test Case 2\n",
    "s ='fly me to the moon'\n",
    "#s[::-1].index(' ')\n",
    "Solution().lengthOfLastWord(s)"
   ]
  },
  {
   "cell_type": "code",
   "execution_count": 16,
   "id": "5115406a",
   "metadata": {},
   "outputs": [
    {
     "data": {
      "text/plain": [
       "6"
      ]
     },
     "execution_count": 16,
     "metadata": {},
     "output_type": "execute_result"
    }
   ],
   "source": [
    "# Test Case 3\n",
    "s = 'luffy is still joyboy'\n",
    "Solution().lengthOfLastWord(s)"
   ]
  },
  {
   "cell_type": "code",
   "execution_count": 17,
   "id": "0161a826",
   "metadata": {},
   "outputs": [
    {
     "name": "stdout",
     "output_type": "stream",
     "text": [
      "24\n",
      "True\n",
      "23\n"
     ]
    },
    {
     "data": {
      "text/plain": [
       "4"
      ]
     },
     "execution_count": 17,
     "metadata": {},
     "output_type": "execute_result"
    }
   ],
   "source": [
    "# Test Case 4\n",
    "#s = ' hello world '\n",
    "s =' fly me   to   the moon '\n",
    "print(len(s))\n",
    "print(s[-1]==' ')\n",
    "\n",
    "print(len(s[:-1]))\n",
    "Solution().lengthOfLastWord(s)"
   ]
  },
  {
   "cell_type": "code",
   "execution_count": 18,
   "id": "151f1e9e",
   "metadata": {},
   "outputs": [
    {
     "data": {
      "text/plain": [
       "1"
      ]
     },
     "execution_count": 18,
     "metadata": {},
     "output_type": "execute_result"
    }
   ],
   "source": [
    "# Test Case 5\n",
    "s = 'a '\n",
    "Solution().lengthOfLastWord(s)"
   ]
  },
  {
   "cell_type": "code",
   "execution_count": null,
   "id": "29b95fa0",
   "metadata": {},
   "outputs": [],
   "source": [
    "\n",
    "            "
   ]
  }
 ],
 "metadata": {
  "kernelspec": {
   "display_name": "Python 3",
   "language": "python",
   "name": "python3"
  },
  "language_info": {
   "codemirror_mode": {
    "name": "ipython",
    "version": 3
   },
   "file_extension": ".py",
   "mimetype": "text/x-python",
   "name": "python",
   "nbconvert_exporter": "python",
   "pygments_lexer": "ipython3",
   "version": "3.6.7"
  }
 },
 "nbformat": 4,
 "nbformat_minor": 5
}
