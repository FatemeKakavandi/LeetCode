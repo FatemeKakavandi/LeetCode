{
 "cells": [
  {
   "cell_type": "markdown",
   "id": "06eef46f",
   "metadata": {},
   "source": [
    "## Problem Description ##\n",
    "Write a function to find the longest common prefix string amongst an array of strings.\n",
    "\n",
    "If there is no common prefix, return an empty string \"\".\n",
    "\n",
    " \n",
    "\n",
    "## Example 1:\n",
    "\n",
    "Input: strs = [\"flower\",\"flow\",\"flight\"]\n",
    "Output: \"fl\"\n",
    "\n",
    "## Example 2:\n",
    "\n",
    "Input: strs = [\"dog\",\"racecar\",\"car\"]\n",
    "Output: \"\"\n",
    "Explanation: There is no common prefix among the input strings."
   ]
  },
  {
   "cell_type": "code",
   "execution_count": 5,
   "id": "71f933c5",
   "metadata": {},
   "outputs": [],
   "source": [
    "class Solution:\n",
    "    def longestCommonPrefix(self, strs):\n",
    "        print(strs.sort(key=len))\n",
    "        \n",
    "        for i in range(len(strs[0])):\n",
    "    \n",
    "            if strs[0][]\n",
    "        for elm in strs[0]:\n",
    "            if strs[0][]\n",
    "        for elm in strs:\n",
    "            if elm is in strs-elm\n",
    "            print(elm)\n",
    "            "
   ]
  },
  {
   "cell_type": "code",
   "execution_count": 6,
   "id": "8f5ab1a9",
   "metadata": {},
   "outputs": [
    {
     "name": "stdout",
     "output_type": "stream",
     "text": [
      "None\n",
      "acd\n",
      "sdsc\n"
     ]
    }
   ],
   "source": [
    "Solution().longestCommonPrefix(['acd','sdsc'])"
   ]
  },
  {
   "cell_type": "code",
   "execution_count": 9,
   "id": "d667623e",
   "metadata": {},
   "outputs": [
    {
     "name": "stdout",
     "output_type": "stream",
     "text": [
      "True\n"
     ]
    }
   ],
   "source": [
    "strs = ['sdesd','cwscsd','sd']\n",
    "strs.sort(key=len)\n",
    "print(strs[0] in strs[1])"
   ]
  },
  {
   "cell_type": "code",
   "execution_count": 10,
   "id": "16181017",
   "metadata": {},
   "outputs": [
    {
     "name": "stdout",
     "output_type": "stream",
     "text": [
      "s\n"
     ]
    }
   ],
   "source": [
    "print(strs[0][0])"
   ]
  },
  {
   "cell_type": "code",
   "execution_count": null,
   "id": "3772a2f0",
   "metadata": {},
   "outputs": [],
   "source": []
  }
 ],
 "metadata": {
  "kernelspec": {
   "display_name": "Python 3",
   "language": "python",
   "name": "python3"
  },
  "language_info": {
   "codemirror_mode": {
    "name": "ipython",
    "version": 3
   },
   "file_extension": ".py",
   "mimetype": "text/x-python",
   "name": "python",
   "nbconvert_exporter": "python",
   "pygments_lexer": "ipython3",
   "version": "3.6.7"
  }
 },
 "nbformat": 4,
 "nbformat_minor": 5
}
