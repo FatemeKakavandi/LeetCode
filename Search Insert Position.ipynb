{
 "cells": [
  {
   "cell_type": "markdown",
   "id": "abd49d10",
   "metadata": {},
   "source": [
    "## Problem Description\n",
    "\n",
    "Given a sorted array of distinct integers and a target value, return the index if the target is found. If not, return the index where it would be if it were inserted in order.\n",
    "\n",
    "You must write an algorithm with O(log n) runtime complexity."
   ]
  },
  {
   "cell_type": "markdown",
   "id": "5d71edc5",
   "metadata": {},
   "source": [
    "### Example 1:\n",
    "\n",
    "* Input: nums = [1,3,5,6], target = 5\n",
    "* Output: 2\n",
    "\n",
    "### Example 2:\n",
    "\n",
    "* Input: nums = [1,3,5,6], target = 2\n",
    "* Output: 1\n",
    "\n",
    "### Example 3:\n",
    "\n",
    "* Input: nums = [1,3,5,6], target = 7\n",
    "* Output: 4"
   ]
  },
  {
   "cell_type": "code",
   "execution_count": 19,
   "id": "8d333244",
   "metadata": {},
   "outputs": [],
   "source": [
    "class Solution:\n",
    "    def searchInsert(self, nums, target):\n",
    "        if len(nums)==0:\n",
    "            return 0\n",
    "        elif target in nums:\n",
    "            return nums.index(target)\n",
    "        elif target<nums[0]:\n",
    "            return 0\n",
    "        elif nums[-1]< target:\n",
    "            return len(nums)\n",
    "        else:\n",
    "            for elm in nums:\n",
    "                if target<elm:\n",
    "                    return nums.index(elm)\n",
    "                "
   ]
  },
  {
   "cell_type": "code",
   "execution_count": 20,
   "id": "feae8f17",
   "metadata": {},
   "outputs": [
    {
     "name": "stdout",
     "output_type": "stream",
     "text": [
      "2\n"
     ]
    }
   ],
   "source": [
    "# Test Case 1\n",
    "nums = [1,3,5,6]\n",
    "target = 5\n",
    "print(Solution().searchInsert(nums, target))"
   ]
  },
  {
   "cell_type": "code",
   "execution_count": 21,
   "id": "3eae7da9",
   "metadata": {},
   "outputs": [
    {
     "name": "stdout",
     "output_type": "stream",
     "text": [
      "1\n"
     ]
    }
   ],
   "source": [
    "# Test Case 2\n",
    "nums = [1,3,5,6]\n",
    "target = 2\n",
    "print(Solution().searchInsert(nums,target))"
   ]
  },
  {
   "cell_type": "code",
   "execution_count": 22,
   "id": "00c7ee0e",
   "metadata": {},
   "outputs": [
    {
     "name": "stdout",
     "output_type": "stream",
     "text": [
      "4\n"
     ]
    }
   ],
   "source": [
    "# Test Case 3\n",
    "nums = [1,3,5,6]\n",
    "target = 7\n",
    "print(Solution().searchInsert(nums,target))"
   ]
  },
  {
   "cell_type": "code",
   "execution_count": null,
   "id": "be896deb",
   "metadata": {},
   "outputs": [],
   "source": []
  }
 ],
 "metadata": {
  "kernelspec": {
   "display_name": "Python 3",
   "language": "python",
   "name": "python3"
  },
  "language_info": {
   "codemirror_mode": {
    "name": "ipython",
    "version": 3
   },
   "file_extension": ".py",
   "mimetype": "text/x-python",
   "name": "python",
   "nbconvert_exporter": "python",
   "pygments_lexer": "ipython3",
   "version": "3.6.7"
  }
 },
 "nbformat": 4,
 "nbformat_minor": 5
}
