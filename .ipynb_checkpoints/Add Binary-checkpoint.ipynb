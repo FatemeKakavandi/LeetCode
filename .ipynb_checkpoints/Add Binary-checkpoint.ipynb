{
 "cells": [
  {
   "cell_type": "markdown",
   "id": "1cd285dc",
   "metadata": {},
   "source": [
    "## Problem Description\n",
    "\n",
    "Given two binary strings a and b, return their sum as a binary string."
   ]
  },
  {
   "cell_type": "markdown",
   "id": "03007c0d",
   "metadata": {},
   "source": [
    "### Example 1:\n",
    "\n",
    "* Input: a = \"11\", b = \"1\"\n",
    "* Output: \"100\"\n",
    "\n",
    "### Example 2:\n",
    "\n",
    "* Input: a = \"1010\", b = \"1011\"\n",
    "* Output: \"10101\""
   ]
  },
  {
   "cell_type": "code",
   "execution_count": 10,
   "id": "d04fd610",
   "metadata": {},
   "outputs": [],
   "source": [
    "class Solution:\n",
    "    def addBinary(self, a, b):\n",
    "        def return_int(a):\n",
    "            out = 0\n",
    "            i = 1\n",
    "            for elm in a:\n",
    "                out = out + int(elm) * 2**(len(a)-i)\n",
    "                i +=1\n",
    "            return out\n",
    "        c = return_int(a)+return_int(b)\n",
    "        return bin(c)[2:]\n",
    "            "
   ]
  },
  {
   "cell_type": "code",
   "execution_count": 11,
   "id": "eee45c3b",
   "metadata": {},
   "outputs": [
    {
     "name": "stdout",
     "output_type": "stream",
     "text": [
      "1\n"
     ]
    }
   ],
   "source": [
    "a = str(1)\n",
    "out = 0\n",
    "i = 1\n",
    "for elm in a:\n",
    "    out = out + (int(elm) * (2**(len(a)-i)))\n",
    "    i +=1\n",
    "print(out)"
   ]
  },
  {
   "cell_type": "code",
   "execution_count": 12,
   "id": "5d8ba669",
   "metadata": {},
   "outputs": [
    {
     "data": {
      "text/plain": [
       "'100'"
      ]
     },
     "execution_count": 12,
     "metadata": {},
     "output_type": "execute_result"
    }
   ],
   "source": [
    "## Test Case 1\n",
    "a = '11'\n",
    "b = '1'\n",
    "Solution().addBinary(a,b)"
   ]
  },
  {
   "cell_type": "code",
   "execution_count": 13,
   "id": "f1cd2116",
   "metadata": {},
   "outputs": [
    {
     "data": {
      "text/plain": [
       "'10101'"
      ]
     },
     "execution_count": 13,
     "metadata": {},
     "output_type": "execute_result"
    }
   ],
   "source": [
    "## Test Case 2\n",
    "a = '1010'\n",
    "b = '1011'\n",
    "Solution().addBinary(a,b)"
   ]
  },
  {
   "cell_type": "code",
   "execution_count": 8,
   "id": "ff7ae5c1",
   "metadata": {},
   "outputs": [
    {
     "data": {
      "text/plain": [
       "2"
      ]
     },
     "execution_count": 8,
     "metadata": {},
     "output_type": "execute_result"
    }
   ],
   "source": []
  },
  {
   "cell_type": "code",
   "execution_count": null,
   "id": "c0d2af8c",
   "metadata": {},
   "outputs": [],
   "source": []
  }
 ],
 "metadata": {
  "kernelspec": {
   "display_name": "Python 3",
   "language": "python",
   "name": "python3"
  },
  "language_info": {
   "codemirror_mode": {
    "name": "ipython",
    "version": 3
   },
   "file_extension": ".py",
   "mimetype": "text/x-python",
   "name": "python",
   "nbconvert_exporter": "python",
   "pygments_lexer": "ipython3",
   "version": "3.6.7"
  }
 },
 "nbformat": 4,
 "nbformat_minor": 5
}
