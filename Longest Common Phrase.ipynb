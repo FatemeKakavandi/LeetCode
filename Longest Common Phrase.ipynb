{
 "cells": [
  {
   "cell_type": "markdown",
   "id": "06eef46f",
   "metadata": {},
   "source": [
    "## Problem Description ##\n",
    "Write a function to find the longest common phrase string amongst an array of strings.\n",
    "\n",
    "If there is no common phrase, return an empty string \"\".\n",
    "\n",
    " \n",
    "\n",
    "## Example 1:\n",
    "\n",
    "Input: strs = [\"flower\",\"flow\",\"flight\"]\n",
    "Output: \"fl\"\n",
    "\n",
    "## Example 2:\n",
    "\n",
    "Input: strs = [\"dog\",\"racecar\",\"car\"]\n",
    "Output: \"\"\n",
    "Explanation: There is no common phrase among the input strings."
   ]
  },
  {
   "cell_type": "code",
   "execution_count": 78,
   "id": "71f933c5",
   "metadata": {},
   "outputs": [],
   "source": [
    "class Solution:\n",
    "    def longestCommonPrefix(self, strs):\n",
    "        \n",
    "        \n",
    "        strs.sort(key=len)\n",
    "        if len(strs[0])==0:\n",
    "            return ''\n",
    "        \n",
    "        else:\n",
    "        \n",
    "            prefix = ['' for i in range(len(strs[0]))]\n",
    "            temp = ''\n",
    "            j=0\n",
    "            for i in range(len(strs[0])):\n",
    "                ifin = True\n",
    "\n",
    "                for elm in strs[1:]:\n",
    "                    ifin = ifin and (strs[0][i] in elm)\n",
    "\n",
    "                if ifin:\n",
    "                    temp = temp + strs[0][i]\n",
    "                    prefix[j] = temp\n",
    "\n",
    "                else:\n",
    "                    temp = ''\n",
    "                    j = j+1\n",
    "            \n",
    "            prefix.sort(key=len,reverse=True)\n",
    "        \n",
    "            return prefix[0]\n",
    "        \n",
    " \n",
    "            "
   ]
  },
  {
   "cell_type": "markdown",
   "id": "00950680",
   "metadata": {},
   "source": [
    "## Test Case 1\n"
   ]
  },
  {
   "cell_type": "code",
   "execution_count": 79,
   "id": "8f5ab1a9",
   "metadata": {},
   "outputs": [
    {
     "name": "stdout",
     "output_type": "stream",
     "text": [
      "fl\n"
     ]
    }
   ],
   "source": [
    "strs = [\"flower\",\"flow\",\"flight\"]\n",
    "print(Solution().longestCommonPrefix(strs))"
   ]
  },
  {
   "cell_type": "markdown",
   "id": "4f2b9511",
   "metadata": {},
   "source": [
    "## Test Case 2"
   ]
  },
  {
   "cell_type": "code",
   "execution_count": 80,
   "id": "16181017",
   "metadata": {},
   "outputs": [
    {
     "name": "stdout",
     "output_type": "stream",
     "text": [
      "\n"
     ]
    }
   ],
   "source": [
    "strs = [\"dog\",\"racecar\",\"car\"]\n",
    "print(Solution().longestCommonPrefix(strs))"
   ]
  },
  {
   "cell_type": "markdown",
   "id": "6b7bd66b",
   "metadata": {},
   "source": [
    "## Test Case 3"
   ]
  },
  {
   "cell_type": "code",
   "execution_count": 81,
   "id": "6cdcaaa4",
   "metadata": {},
   "outputs": [
    {
     "name": "stdout",
     "output_type": "stream",
     "text": [
      "c\n"
     ]
    }
   ],
   "source": [
    "strs = ['cir','car']\n",
    "print(Solution().longestCommonPrefix(strs))"
   ]
  },
  {
   "cell_type": "code",
   "execution_count": 82,
   "id": "797739bb",
   "metadata": {},
   "outputs": [
    {
     "name": "stdout",
     "output_type": "stream",
     "text": [
      "dew\n"
     ]
    }
   ],
   "source": [
    "print(a[2])"
   ]
  },
  {
   "cell_type": "code",
   "execution_count": 83,
   "id": "0bae583e",
   "metadata": {},
   "outputs": [],
   "source": [
    "b = ['']\n",
    "b[0] += 'c'"
   ]
  },
  {
   "cell_type": "code",
   "execution_count": 84,
   "id": "75c846bd",
   "metadata": {},
   "outputs": [
    {
     "name": "stdout",
     "output_type": "stream",
     "text": [
      "c\n"
     ]
    }
   ],
   "source": [
    "print(b[0])"
   ]
  },
  {
   "cell_type": "code",
   "execution_count": 85,
   "id": "2adad259",
   "metadata": {},
   "outputs": [
    {
     "name": "stdout",
     "output_type": "stream",
     "text": [
      "['', 'csds', 'dew', 'scd']\n"
     ]
    }
   ],
   "source": [
    "a = ['scd','csds','dew','']\n",
    "a.sort()\n",
    "print(a)"
   ]
  },
  {
   "cell_type": "code",
   "execution_count": 86,
   "id": "d5fb8198",
   "metadata": {},
   "outputs": [
    {
     "name": "stdout",
     "output_type": "stream",
     "text": [
      "0\n"
     ]
    }
   ],
   "source": [
    "print(len(a[0]))"
   ]
  },
  {
   "cell_type": "code",
   "execution_count": null,
   "id": "e6790eb4",
   "metadata": {},
   "outputs": [],
   "source": [
    "a = ['c','r']\n"
   ]
  }
 ],
 "metadata": {
  "kernelspec": {
   "display_name": "Python 3",
   "language": "python",
   "name": "python3"
  },
  "language_info": {
   "codemirror_mode": {
    "name": "ipython",
    "version": 3
   },
   "file_extension": ".py",
   "mimetype": "text/x-python",
   "name": "python",
   "nbconvert_exporter": "python",
   "pygments_lexer": "ipython3",
   "version": "3.6.7"
  }
 },
 "nbformat": 4,
 "nbformat_minor": 5
}
