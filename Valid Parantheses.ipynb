{
 "cells": [
  {
   "cell_type": "markdown",
   "id": "a3533e42",
   "metadata": {},
   "source": [
    "## Problem Description\n",
    "\n",
    "Given a string s containing just the characters '(', ')', '{', '}', '[' and ']', determine if the input string is valid.\n",
    "\n",
    "An input string is valid if:\n",
    "\n",
    "* Open brackets must be closed by the same type of brackets.\n",
    "* Open brackets must be closed in the correct order.\n",
    "* Every close bracket has a corresponding open bracket of the same type."
   ]
  },
  {
   "cell_type": "code",
   "execution_count": 35,
   "id": "9962236a",
   "metadata": {},
   "outputs": [],
   "source": [
    "class Solution:\n",
    "    def isValid(self, s):\n",
    "        class_paran = {'(':')',\n",
    "                       '{':'}',\n",
    "                       '[':']'}\n",
    "\n",
    "        res = (len(s)%2==0) & (s[0] in class_paran.keys())&(s[-1] not in class_paran.keys())\n",
    "        \n",
    "        i=0\n",
    "\n",
    "        while i in range(len(s)):\n",
    "            elm = s[i]\n",
    "\n",
    "            if elm in class_paran.keys():\n",
    "                #print(class_paran[elm] in s)\n",
    "                if class_paran[elm] in s:\n",
    "                    #print((s.index(class_paran[elm])-i)%2)\n",
    "                    #if ((s.index(class_paran[elm])-s.index(elm))%2 ==1)&(s.index(elm)<s.index(class_paran[elm])):\n",
    "                    if ((s.index(class_paran[elm])-i)%2 ==1)&(i<s.index(class_paran[elm])):\n",
    "                        res = res and True\n",
    "                        i +=1\n",
    "                    else:\n",
    "                        return False\n",
    "                else:\n",
    "                    res = res and False\n",
    "                    i+=1\n",
    "            else:\n",
    "                    i+=1\n",
    "        return res\n",
    "                \n",
    "                "
   ]
  },
  {
   "cell_type": "code",
   "execution_count": 36,
   "id": "d064da6d",
   "metadata": {},
   "outputs": [
    {
     "name": "stdout",
     "output_type": "stream",
     "text": [
      "True\n"
     ]
    }
   ],
   "source": [
    "## Tese Case 1\n",
    "s = '()'\n",
    "print(Solution().isValid(s))"
   ]
  },
  {
   "cell_type": "code",
   "execution_count": 37,
   "id": "3d7a2951",
   "metadata": {},
   "outputs": [
    {
     "name": "stdout",
     "output_type": "stream",
     "text": [
      "True\n"
     ]
    }
   ],
   "source": [
    "## Test Case 2\n",
    "s = '()[]{}'\n",
    "print(Solution().isValid(s))"
   ]
  },
  {
   "cell_type": "code",
   "execution_count": 38,
   "id": "2373cc12",
   "metadata": {},
   "outputs": [
    {
     "name": "stdout",
     "output_type": "stream",
     "text": [
      "False\n"
     ]
    }
   ],
   "source": [
    "## Test Case 3 \n",
    "s = '(]'\n",
    "print(Solution().isValid(s))"
   ]
  },
  {
   "cell_type": "code",
   "execution_count": 39,
   "id": "437d75ae",
   "metadata": {},
   "outputs": [
    {
     "name": "stdout",
     "output_type": "stream",
     "text": [
      "False\n"
     ]
    }
   ],
   "source": [
    "## Test Case 4\n",
    "s = '([)]'\n",
    "print(Solution().isValid(s))"
   ]
  },
  {
   "cell_type": "code",
   "execution_count": 40,
   "id": "2eeabe9e",
   "metadata": {},
   "outputs": [
    {
     "name": "stdout",
     "output_type": "stream",
     "text": [
      "True\n"
     ]
    }
   ],
   "source": [
    "## Test Case 5\n",
    "s = '{[]}'\n",
    "print(Solution().isValid(s))"
   ]
  },
  {
   "cell_type": "code",
   "execution_count": 41,
   "id": "83071b4e",
   "metadata": {},
   "outputs": [
    {
     "name": "stdout",
     "output_type": "stream",
     "text": [
      "False\n"
     ]
    }
   ],
   "source": [
    "## Test Case 6\n",
    "s = '(){}}{'\n",
    "print(Solution().isValid(s))"
   ]
  },
  {
   "cell_type": "code",
   "execution_count": 42,
   "id": "3742e5ad",
   "metadata": {},
   "outputs": [
    {
     "name": "stdout",
     "output_type": "stream",
     "text": [
      "False\n"
     ]
    }
   ],
   "source": [
    "## Test Case 7\n",
    "s = '))'\n",
    "print(Solution().isValid(s))"
   ]
  },
  {
   "cell_type": "code",
   "execution_count": 43,
   "id": "eb3cd5cd",
   "metadata": {},
   "outputs": [
    {
     "name": "stdout",
     "output_type": "stream",
     "text": [
      "False\n"
     ]
    }
   ],
   "source": [
    "# Test Case 8\n",
    "s = '({[)'\n",
    "print(Solution().isValid(s))"
   ]
  },
  {
   "cell_type": "code",
   "execution_count": 44,
   "id": "c87dd917",
   "metadata": {},
   "outputs": [
    {
     "name": "stdout",
     "output_type": "stream",
     "text": [
      "False\n"
     ]
    }
   ],
   "source": [
    "# Test Case 9\n",
    "s = '[[[]'\n",
    "print(Solution().isValid(s))"
   ]
  },
  {
   "cell_type": "code",
   "execution_count": 45,
   "id": "03626478",
   "metadata": {},
   "outputs": [
    {
     "name": "stdout",
     "output_type": "stream",
     "text": [
      "True\n"
     ]
    }
   ],
   "source": [
    "# Test Case 10\n",
    "s = '([}}])'\n",
    "print(Solution().isValid(s))"
   ]
  },
  {
   "cell_type": "code",
   "execution_count": 11,
   "id": "c14f248a",
   "metadata": {},
   "outputs": [
    {
     "name": "stdout",
     "output_type": "stream",
     "text": [
      "False\n"
     ]
    }
   ],
   "source": [
    "class_paran = {'(':')',\n",
    "              '{':'}',\n",
    "              '[':']'}\n",
    "a = '[(){'\n",
    "elm = '['\n",
    "print(class_paran[elm] in a)\n",
    "#print(a.index(class_paran[elm])%2 ==1)"
   ]
  },
  {
   "cell_type": "code",
   "execution_count": 21,
   "id": "cddb4676",
   "metadata": {},
   "outputs": [
    {
     "name": "stdout",
     "output_type": "stream",
     "text": [
      "True\n"
     ]
    }
   ],
   "source": [
    "a = '([}'\n",
    "print('(' in a)"
   ]
  },
  {
   "cell_type": "code",
   "execution_count": 69,
   "id": "dc5844ad",
   "metadata": {},
   "outputs": [
    {
     "name": "stdout",
     "output_type": "stream",
     "text": [
      "True\n"
     ]
    }
   ],
   "source": [
    "class_paran = {'(':')',\n",
    "              '{':'}',\n",
    "              '[':']'}\n",
    "s = '(]'\n",
    "print(s[0] in class_paran.keys())"
   ]
  },
  {
   "cell_type": "code",
   "execution_count": 120,
   "id": "b258abef",
   "metadata": {},
   "outputs": [
    {
     "name": "stdout",
     "output_type": "stream",
     "text": [
      "3\n"
     ]
    },
    {
     "data": {
      "text/plain": [
       "True"
      ]
     },
     "execution_count": 120,
     "metadata": {},
     "output_type": "execute_result"
    }
   ],
   "source": [
    "\n",
    "s = '(){}}{'\n",
    "elm = '{'\n",
    "print(s.index('}'))\n",
    "((s.index(class_paran[elm])-s.index(elm))%2 ==1)&(s.index(elm)<s.index(class_paran[elm]))"
   ]
  },
  {
   "cell_type": "code",
   "execution_count": 126,
   "id": "68fa9813",
   "metadata": {},
   "outputs": [
    {
     "data": {
      "text/plain": [
       "')('"
      ]
     },
     "execution_count": 126,
     "metadata": {},
     "output_type": "execute_result"
    }
   ],
   "source": [
    "s = '()('\n",
    "s.replace('(','',1)"
   ]
  },
  {
   "cell_type": "code",
   "execution_count": 146,
   "id": "d41c9b61",
   "metadata": {},
   "outputs": [
    {
     "name": "stdout",
     "output_type": "stream",
     "text": [
      "s f\n"
     ]
    }
   ],
   "source": [
    "a = 's'\n",
    "b = 'f'\n",
    "print(a,b)"
   ]
  },
  {
   "cell_type": "code",
   "execution_count": null,
   "id": "e700684b",
   "metadata": {},
   "outputs": [],
   "source": []
  },
  {
   "cell_type": "code",
   "execution_count": null,
   "id": "660dae17",
   "metadata": {},
   "outputs": [],
   "source": []
  }
 ],
 "metadata": {
  "kernelspec": {
   "display_name": "Python 3",
   "language": "python",
   "name": "python3"
  },
  "language_info": {
   "codemirror_mode": {
    "name": "ipython",
    "version": 3
   },
   "file_extension": ".py",
   "mimetype": "text/x-python",
   "name": "python",
   "nbconvert_exporter": "python",
   "pygments_lexer": "ipython3",
   "version": "3.6.7"
  }
 },
 "nbformat": 4,
 "nbformat_minor": 5
}
